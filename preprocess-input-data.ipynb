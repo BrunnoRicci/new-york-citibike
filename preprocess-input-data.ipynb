{
 "cells": [
  {
   "cell_type": "code",
   "execution_count": 1,
   "metadata": {},
   "outputs": [],
   "source": [
    "# %load ../../projects/misc/utils/import.py\n",
    "import pandas as pd\n",
    "import numpy as np\n",
    "import matplotlib.pyplot as plt\n",
    "import matplotlib\n",
    "import seaborn as sns\n",
    "import datetime\n",
    "\n",
    "import os\n",
    "\n",
    "#Display Settings\n",
    "pw = 16\n",
    "ph = 9\n",
    "matplotlib.rcParams['figure.figsize'] = (pw, ph)\n",
    "\n",
    "#Pandas Dsiplay\n",
    "pd.options.display.max_rows = 100\n",
    "pd.options.display.max_columns = 200\n",
    "pd.options.display.max_colwidth = 200\n",
    "\n",
    "# import warnings\n",
    "# warnings.filterwarnings('ignore')"
   ]
  },
  {
   "cell_type": "code",
   "execution_count": 2,
   "metadata": {},
   "outputs": [],
   "source": [
    "#Constants\n",
    "input_dir = '../inputs/new-york-citibike/'\n",
    "output_dir = '../inputs/'\n",
    "\n",
    "station_cols = ['start_station_id', 'start_station_name', \n",
    "                'start_station_latitude', 'start_station_longitude']\n",
    "\n",
    "gb_cols = ['start_station_id', 'start_station_name', 'count',\n",
    "           'start_station_latitude','start_station_longitude']\n",
    "\n",
    "new_station_cols = ['station_id', 'station_name', 'count', \n",
    "                    'station_latitude', 'station_longitude']"
   ]
  },
  {
   "cell_type": "code",
   "execution_count": 3,
   "metadata": {},
   "outputs": [],
   "source": [
    "#Usertype map\n",
    "usertype_map = {'Subscriber': 1,\n",
    "                'Customer': 2}\n",
    "\n",
    "inv_usertype_map = {v: k for k, v in usertype_map.items()}\n",
    "\n",
    "#Gender map\n",
    "gender_map = {'unknown': 0,\n",
    "              'female': 1,\n",
    "              'male': 2}\n",
    "\n",
    "inv_gender_map = {v: k for k, v in gender_map.items()}"
   ]
  },
  {
   "cell_type": "markdown",
   "metadata": {},
   "source": [
    "## Stations IDs Trips vs Stations"
   ]
  },
  {
   "cell_type": "code",
   "execution_count": 47,
   "metadata": {},
   "outputs": [
    {
     "name": "stdout",
     "output_type": "stream",
     "text": [
      "Stations ids in trip 881 -- Station ids in stations 845\n"
     ]
    }
   ],
   "source": [
    "#Read ids\n",
    "trip_ids = pd.read_csv('../inputs/station_ids/trips_st_ids.csv')\n",
    "station_ids = pd.read_csv('../inputs/station_ids/stations_st_ids.csv')\n",
    "\n",
    "print(\"Stations ids in trip {} -- Station ids in stations {}\".\\\n",
    "    format(trip_ids['station_id'].nunique(), station_ids['station_id'].nunique()))"
   ]
  },
  {
   "cell_type": "code",
   "execution_count": 48,
   "metadata": {},
   "outputs": [
    {
     "data": {
      "text/plain": [
       "158"
      ]
     },
     "execution_count": 48,
     "metadata": {},
     "output_type": "execute_result"
    }
   ],
   "source": [
    "#Missing from stations\n",
    "mfs = set(trip_ids['station_id']).difference(set(station_ids['station_id']))\n",
    "len(mfs)"
   ]
  },
  {
   "cell_type": "code",
   "execution_count": 49,
   "metadata": {},
   "outputs": [
    {
     "data": {
      "text/plain": [
       "121"
      ]
     },
     "execution_count": 49,
     "metadata": {},
     "output_type": "execute_result"
    }
   ],
   "source": [
    "#Missing from trips\n",
    "mft = set(station_ids['station_id']).difference(set(trip_ids['station_id']))\n",
    "len(mft)"
   ]
  },
  {
   "cell_type": "markdown",
   "metadata": {},
   "source": [
    "## Create Station ID -> Station Details Map"
   ]
  },
  {
   "cell_type": "code",
   "execution_count": 51,
   "metadata": {},
   "outputs": [],
   "source": [
    "#Get stations\n",
    "def get_stations(df, new_cols):\n",
    "    #Most common values for station ids + count\n",
    "    stations = df[station_cols].groupby('start_station_id', as_index=False)\\\n",
    "    .agg({'start_station_name': [lambda x: x.value_counts().index[0], 'count'],\n",
    "          'start_station_latitude': lambda x: x.value_counts().index[0],\n",
    "          'start_station_longitude': lambda x: x.value_counts().index[0]})\n",
    "    \n",
    "    stations.columns = new_cols\n",
    "    return stations"
   ]
  },
  {
   "cell_type": "code",
   "execution_count": 52,
   "metadata": {},
   "outputs": [
    {
     "name": "stdout",
     "output_type": "stream",
     "text": [
      "1 (865, 5)\n",
      "2 (873, 5)\n",
      "3 (875, 5)\n",
      "4 (876, 5)\n",
      "5 (877, 5)\n",
      "6 (879, 5)\n",
      "7 (880, 5)\n",
      "8 (880, 5)\n",
      "9 (880, 5)\n",
      "10 (880, 5)\n",
      "11 (880, 5)\n",
      "12 (880, 5)\n",
      "13 (880, 5)\n"
     ]
    }
   ],
   "source": [
    "df = pd.read_csv(input_dir + '/' + file_names[1])\n",
    "\n",
    "#Most common values for station id\n",
    "stations = get_stations(df, gb_cols)\n",
    "\n",
    "#Find all station ids\n",
    "i = 1\n",
    "while stations.shape[0] < trip_ids['station_id'].nunique():\n",
    "    print(i, stations.shape)\n",
    "    i += 1\n",
    "    \n",
    "    df = pd.read_csv(input_dir + '/' + file_names[i])\n",
    "    \n",
    "    #Most common values for station id\n",
    "    stations_t = get_stations(df, gb_cols)\n",
    "    \n",
    "    #Concat and keep most common\n",
    "    stations = pd.concat([stations, stations_t]).sort_values('count')\n",
    "    stations = stations.drop_duplicates(subset='start_station_id', keep='last')"
   ]
  },
  {
   "cell_type": "code",
   "execution_count": 53,
   "metadata": {},
   "outputs": [
    {
     "name": "stdout",
     "output_type": "stream",
     "text": [
      "Nunique ids  881\n"
     ]
    }
   ],
   "source": [
    "#Check if all ids are found\n",
    "print('Nunique ids ', stations['start_station_id'].nunique())"
   ]
  },
  {
   "cell_type": "code",
   "execution_count": 54,
   "metadata": {},
   "outputs": [
    {
     "data": {
      "text/plain": [
       "Lafayette St & Jersey St    2\n",
       "Kent Ave & N 7 St           2\n",
       "Henry St & W 9 St           2\n",
       "W 45 St & 6 Ave             2\n",
       "Soissons Landing            2\n",
       "Mercer St & Bleecker St     2\n",
       "E 2 St & 2 Ave              2\n",
       "Norman Ave & Leonard St     2\n",
       "E 16 St & Irving Pl         2\n",
       "8 Ave & W 31 St             2\n",
       "Riverside Dr & W 91 St      2\n",
       "Name: start_station_name, dtype: int64"
      ]
     },
     "execution_count": 54,
     "metadata": {},
     "output_type": "execute_result"
    }
   ],
   "source": [
    "#Stations names with multiple ids\n",
    "svc =stations['start_station_name'].value_counts() \n",
    "mt1 = svc[svc > 1]\n",
    "mt1"
   ]
  },
  {
   "cell_type": "code",
   "execution_count": 55,
   "metadata": {},
   "outputs": [
    {
     "data": {
      "text/html": [
       "<div>\n",
       "<style scoped>\n",
       "    .dataframe tbody tr th:only-of-type {\n",
       "        vertical-align: middle;\n",
       "    }\n",
       "\n",
       "    .dataframe tbody tr th {\n",
       "        vertical-align: top;\n",
       "    }\n",
       "\n",
       "    .dataframe thead th {\n",
       "        text-align: right;\n",
       "    }\n",
       "</style>\n",
       "<table border=\"1\" class=\"dataframe\">\n",
       "  <thead>\n",
       "    <tr style=\"text-align: right;\">\n",
       "      <th></th>\n",
       "      <th>start_station_id</th>\n",
       "      <th>start_station_name</th>\n",
       "      <th>count</th>\n",
       "      <th>start_station_latitude</th>\n",
       "      <th>start_station_longitude</th>\n",
       "    </tr>\n",
       "  </thead>\n",
       "  <tbody>\n",
       "    <tr>\n",
       "      <th>296</th>\n",
       "      <td>521</td>\n",
       "      <td>8 Ave &amp; W 31 St</td>\n",
       "      <td>14296</td>\n",
       "      <td>40.750450</td>\n",
       "      <td>-73.994811</td>\n",
       "    </tr>\n",
       "    <tr>\n",
       "      <th>503</th>\n",
       "      <td>3255</td>\n",
       "      <td>8 Ave &amp; W 31 St</td>\n",
       "      <td>7547</td>\n",
       "      <td>40.750585</td>\n",
       "      <td>-73.994685</td>\n",
       "    </tr>\n",
       "    <tr>\n",
       "      <th>251</th>\n",
       "      <td>475</td>\n",
       "      <td>E 16 St &amp; Irving Pl</td>\n",
       "      <td>6034</td>\n",
       "      <td>40.735243</td>\n",
       "      <td>-73.987586</td>\n",
       "    </tr>\n",
       "    <tr>\n",
       "      <th>683</th>\n",
       "      <td>3463</td>\n",
       "      <td>E 16 St &amp; Irving Pl</td>\n",
       "      <td>2265</td>\n",
       "      <td>40.735367</td>\n",
       "      <td>-73.987974</td>\n",
       "    </tr>\n",
       "    <tr>\n",
       "      <th>185</th>\n",
       "      <td>403</td>\n",
       "      <td>E 2 St &amp; 2 Ave</td>\n",
       "      <td>6518</td>\n",
       "      <td>40.725029</td>\n",
       "      <td>-73.990697</td>\n",
       "    </tr>\n",
       "    <tr>\n",
       "      <th>513</th>\n",
       "      <td>3265</td>\n",
       "      <td>E 2 St &amp; 2 Ave</td>\n",
       "      <td>552</td>\n",
       "      <td>40.724563</td>\n",
       "      <td>-73.989444</td>\n",
       "    </tr>\n",
       "  </tbody>\n",
       "</table>\n",
       "</div>"
      ],
      "text/plain": [
       "     start_station_id   start_station_name  count  start_station_latitude  \\\n",
       "296               521      8 Ave & W 31 St  14296               40.750450   \n",
       "503              3255      8 Ave & W 31 St   7547               40.750585   \n",
       "251               475  E 16 St & Irving Pl   6034               40.735243   \n",
       "683              3463  E 16 St & Irving Pl   2265               40.735367   \n",
       "185               403       E 2 St & 2 Ave   6518               40.725029   \n",
       "513              3265       E 2 St & 2 Ave    552               40.724563   \n",
       "\n",
       "     start_station_longitude  \n",
       "296               -73.994811  \n",
       "503               -73.994685  \n",
       "251               -73.987586  \n",
       "683               -73.987974  \n",
       "185               -73.990697  \n",
       "513               -73.989444  "
      ]
     },
     "execution_count": 55,
     "metadata": {},
     "output_type": "execute_result"
    }
   ],
   "source": [
    "stations[stations['start_station_name'].map(lambda x: x in mt1.index)].sort_values('start_station_name').head(6)"
   ]
  },
  {
   "cell_type": "markdown",
   "metadata": {},
   "source": [
    "**Note** Some stations were moved to a bit different location and that is why they have multiple ids for same name"
   ]
  },
  {
   "cell_type": "code",
   "execution_count": 58,
   "metadata": {},
   "outputs": [],
   "source": [
    "#Rename cols\n",
    "rename_dict = dict(zip(gb_cols, new_station_cols))\n",
    "station = stations.rename(columns=rename_dict)"
   ]
  },
  {
   "cell_type": "code",
   "execution_count": 59,
   "metadata": {},
   "outputs": [],
   "source": [
    "#Ouptu stations\n",
    "stations.to_csv(output_dir + \"/stations_id_map.csv\")"
   ]
  },
  {
   "cell_type": "markdown",
   "metadata": {},
   "source": [
    "## Compress Trips Dataset"
   ]
  },
  {
   "cell_type": "code",
   "execution_count": 4,
   "metadata": {},
   "outputs": [],
   "source": [
    "#Columns to kepp in the output\n",
    "keep_columns = ['tripduration', 'starttime', 'stoptime', \n",
    "                'start_station_id', 'end_station_id', \n",
    "                'usertype', 'birth_year', 'gender']"
   ]
  },
  {
   "cell_type": "code",
   "execution_count": 20,
   "metadata": {},
   "outputs": [],
   "source": [
    "def compress_df(ifn, keep_columns):\n",
    "    df = pd.read_csv(input_dir + '/' + ifn)\n",
    "    \n",
    "    #Dropna\n",
    "    df = df.dropna(subset=['starttime', 'stoptime', 'start_station_id', 'end_station_id'])\n",
    "\n",
    "    #Remove milisec\n",
    "    df['starttime'] = df['starttime'].map(lambda x: x[:19]) \n",
    "    df['stoptime'] = df['stoptime'].map(lambda x: x[:19])\n",
    "\n",
    "    #Map usertypes\n",
    "    df['usertype'] = df['usertype'].map(usertype_map)\n",
    "    df['usertype'].fillna(0, inplace=True)\n",
    "\n",
    "    #Map gender\n",
    "    df['gender'] = df['gender'].map(gender_map)\n",
    "    df['gender'].fillna(0, inplace=True)\n",
    "\n",
    "    df[keep_columns].to_csv(output_dir +'/' + ifn)"
   ]
  },
  {
   "cell_type": "code",
   "execution_count": null,
   "metadata": {},
   "outputs": [],
   "source": [
    "#Compress input data\n",
    "for fn in file_names[1:-1]:\n",
    "    #print(fn)\n",
    "    compress_df(fn, keep_columns)"
   ]
  }
 ],
 "metadata": {
  "kernelspec": {
   "display_name": "Python 3",
   "language": "python",
   "name": "python3"
  },
  "language_info": {
   "codemirror_mode": {
    "name": "ipython",
    "version": 3
   },
   "file_extension": ".py",
   "mimetype": "text/x-python",
   "name": "python",
   "nbconvert_exporter": "python",
   "pygments_lexer": "ipython3",
   "version": "3.7.3"
  }
 },
 "nbformat": 4,
 "nbformat_minor": 2
}
